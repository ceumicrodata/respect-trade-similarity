{
 "cells": [
  {
   "cell_type": "code",
   "execution_count": 2,
   "metadata": {},
   "outputs": [],
   "source": [
    "# import libraries\n",
    "from bs4 import BeautifulSoup\n",
    "from requests import get\n",
    "import pandas as pd\n",
    "import re\n",
    "\n",
    "#functions\n",
    "def gdp(x):\n",
    "\n",
    "    if  \"Trillion\" in x:\n",
    "        return float(x.replace(\"Trillion\",\"\"))*1000\n",
    "    elif  \"Billion\" in x:\n",
    "        return float(x.replace(\"Billion\",\"\"))\n",
    "    elif \"Million\" in x:\n",
    "        return float(x.replace(\"Million\",\"\"))/1000\n",
    "\n",
    "#scraping\n",
    "url=\"https://countrycode.org/\"\n",
    "page=get(url)\n",
    "\n",
    "html_soup = BeautifulSoup(page.text, 'html.parser')\n",
    "\n",
    "\n",
    "lista = []\n",
    "kislista = []\n",
    "for idx,val in enumerate(html_soup.find_all('td'),1):\n",
    "    kislista.append(str(val)[4:-5])\n",
    "    if len(kislista)==6:\n",
    "        lista.append(kislista)\n",
    "        kislista = []\n",
    "\n",
    "CC = pd.DataFrame(lista)\n",
    "#data manipulation\n",
    "CC = CC.iloc[:240]\n",
    "\n",
    "CC.columns = [\"c_name\",\"c_code_num\",\"ISO_code\",\"pop\",\"area\",\"GDP_B_USD\"]\n",
    "\n",
    "CC.ISO_code = CC.ISO_code.apply(lambda x: x[:2])\n",
    "\n",
    "CC.area = CC.area.apply(lambda x: x.replace(\",\",\"\"))\n",
    "\n",
    "CC[\"pop\"] = CC[\"pop\"].apply(lambda x: x.replace(\",\",\"\"))\n",
    "\n",
    "CC.c_name = CC.c_name.apply(lambda x: re.split('<|>',x)[-3])\n",
    "\n"
   ]
  },
  {
   "cell_type": "code",
   "execution_count": 4,
   "metadata": {},
   "outputs": [
    {
     "data": {
      "text/html": [
       "<div>\n",
       "<style scoped>\n",
       "    .dataframe tbody tr th:only-of-type {\n",
       "        vertical-align: middle;\n",
       "    }\n",
       "\n",
       "    .dataframe tbody tr th {\n",
       "        vertical-align: top;\n",
       "    }\n",
       "\n",
       "    .dataframe thead th {\n",
       "        text-align: right;\n",
       "    }\n",
       "</style>\n",
       "<table border=\"1\" class=\"dataframe\">\n",
       "  <thead>\n",
       "    <tr style=\"text-align: right;\">\n",
       "      <th></th>\n",
       "      <th>c_name</th>\n",
       "      <th>c_code_num</th>\n",
       "      <th>ISO_code</th>\n",
       "      <th>pop</th>\n",
       "      <th>area</th>\n",
       "      <th>GDP_B_USD</th>\n",
       "    </tr>\n",
       "  </thead>\n",
       "  <tbody>\n",
       "    <tr>\n",
       "      <th>225</th>\n",
       "      <td>Ukraine</td>\n",
       "      <td>380</td>\n",
       "      <td>UA</td>\n",
       "      <td>45415596</td>\n",
       "      <td>603700</td>\n",
       "      <td>175.5 Billion</td>\n",
       "    </tr>\n",
       "    <tr>\n",
       "      <th>192</th>\n",
       "      <td>Singapore</td>\n",
       "      <td>65</td>\n",
       "      <td>SG</td>\n",
       "      <td>4701069</td>\n",
       "      <td>693</td>\n",
       "      <td>295.7 Billion</td>\n",
       "    </tr>\n",
       "    <tr>\n",
       "      <th>208</th>\n",
       "      <td>Switzerland</td>\n",
       "      <td>41</td>\n",
       "      <td>CH</td>\n",
       "      <td>7581000</td>\n",
       "      <td>41290</td>\n",
       "      <td>646.2 Billion</td>\n",
       "    </tr>\n",
       "  </tbody>\n",
       "</table>\n",
       "</div>"
      ],
      "text/plain": [
       "          c_name c_code_num ISO_code       pop    area      GDP_B_USD\n",
       "225      Ukraine        380       UA  45415596  603700  175.5 Billion\n",
       "192    Singapore         65       SG   4701069     693  295.7 Billion\n",
       "208  Switzerland         41       CH   7581000   41290  646.2 Billion"
      ]
     },
     "execution_count": 4,
     "metadata": {},
     "output_type": "execute_result"
    }
   ],
   "source": [
    "CC.sample(3)"
   ]
  },
  {
   "cell_type": "code",
   "execution_count": null,
   "metadata": {},
   "outputs": [],
   "source": []
  }
 ],
 "metadata": {
  "kernelspec": {
   "display_name": "Python 3",
   "language": "python",
   "name": "python3"
  },
  "language_info": {
   "codemirror_mode": {
    "name": "ipython",
    "version": 3
   },
   "file_extension": ".py",
   "mimetype": "text/x-python",
   "name": "python",
   "nbconvert_exporter": "python",
   "pygments_lexer": "ipython3",
   "version": "3.6.7"
  }
 },
 "nbformat": 4,
 "nbformat_minor": 2
}
